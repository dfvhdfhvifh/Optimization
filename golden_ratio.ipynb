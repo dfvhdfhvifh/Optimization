{
 "cells": [
  {
   "cell_type": "code",
   "execution_count": 1,
   "id": "22ac3e4d",
   "metadata": {},
   "outputs": [],
   "source": [
    "import numpy as np"
   ]
  },
  {
   "cell_type": "code",
   "execution_count": 15,
   "id": "c1624c0f",
   "metadata": {},
   "outputs": [],
   "source": [
    "def f(x):\n",
    "    return x ** 4 + 2 * x ** 2 + 4 * x + 1\n",
    "\n",
    "a = -1\n",
    "b = 0\n",
    "e = 0.1"
   ]
  },
  {
   "cell_type": "code",
   "execution_count": 37,
   "id": "c6fcdd28",
   "metadata": {},
   "outputs": [],
   "source": [
    "def golden_ratio(f, a, b, e):\n",
    "    x = [a + (b - a) * ((np.sqrt(5) - 1) / 2), b - (b - a) * ((np.sqrt(5) - 1) / 2)]\n",
    "    i = 0\n",
    "    while (b - a) >= e:\n",
    "        i += 1\n",
    "        if f(x[1]) < f(x[0]):\n",
    "            b = x[0]\n",
    "            x[0] = x[1]\n",
    "            x[1] = b - (b - a) * ((np.sqrt(5) - 1) / 2)\n",
    "            x_min = x[1]\n",
    "        else:\n",
    "            a = x[1]\n",
    "            x[1] = x[0]\n",
    "            x[0] = a + (b - a) * ((np.sqrt(5) - 1) / 2)\n",
    "            x_min = x[0]\n",
    "    return i, x_min, f(x_min)"
   ]
  },
  {
   "cell_type": "code",
   "execution_count": 38,
   "id": "25140902",
   "metadata": {},
   "outputs": [
    {
     "data": {
      "text/plain": [
       "(5, -0.6524758424985279, -0.577212378391855)"
      ]
     },
     "execution_count": 38,
     "metadata": {},
     "output_type": "execute_result"
    }
   ],
   "source": [
    "golden_ratio(f, a, b, e)"
   ]
  }
 ],
 "metadata": {
  "kernelspec": {
   "display_name": "Python 3",
   "language": "python",
   "name": "python3"
  },
  "language_info": {
   "codemirror_mode": {
    "name": "ipython",
    "version": 3
   },
   "file_extension": ".py",
   "mimetype": "text/x-python",
   "name": "python",
   "nbconvert_exporter": "python",
   "pygments_lexer": "ipython3",
   "version": "3.8.8"
  }
 },
 "nbformat": 4,
 "nbformat_minor": 5
}
